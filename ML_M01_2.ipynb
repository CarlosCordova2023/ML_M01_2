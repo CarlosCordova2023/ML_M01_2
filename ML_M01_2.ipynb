{
  "nbformat": 4,
  "nbformat_minor": 0,
  "metadata": {
    "colab": {
      "provenance": [],
      "authorship_tag": "ABX9TyPOhUzL3LcNXNbU5hs7oxCu",
      "include_colab_link": true
    },
    "kernelspec": {
      "name": "python3",
      "display_name": "Python 3"
    },
    "language_info": {
      "name": "python"
    }
  },
  "cells": [
    {
      "cell_type": "markdown",
      "metadata": {
        "id": "view-in-github",
        "colab_type": "text"
      },
      "source": [
        "<a href=\"https://colab.research.google.com/github/CarlosCordova2023/ML_M01_2/blob/main/ML_M01_2.ipynb\" target=\"_parent\"><img src=\"https://colab.research.google.com/assets/colab-badge.svg\" alt=\"Open In Colab\"/></a>"
      ]
    },
    {
      "cell_type": "code",
      "execution_count": null,
      "metadata": {
        "colab": {
          "base_uri": "https://localhost:8080/"
        },
        "id": "dvfQWuXEbgp3",
        "outputId": "43fb7ce3-aa02-4c8c-cb5b-32c1a65d3694"
      },
      "outputs": [
        {
          "output_type": "stream",
          "name": "stdout",
          "text": [
            "[3, 7, 4, 1, 5, 9, 2] [4, 1, 5] 7\n",
            "(10, 20) 10 20\n",
            "{'id': 42, 'nombre': 'Ana', 'edad': 29}\n",
            "{'green', 'red', 'blue'} True {'green', 'red', 'cyan', 'blue'} {'red'}\n"
          ]
        }
      ],
      "source": [
        "# === LISTAS, TUPLAS, DICCIONARIOS Y CONJUNTOS ===\n",
        "\n",
        "# ----- Listas (mutables y ordenadas) -----\n",
        "nums = [3, 1, 4, 1, 5, 9]              # Creamos una lista con enteros (duplicados permitidos)\n",
        "nums.append(2)                         # Agregamos un elemento al final\n",
        "nums[1] = 7                            # Modificamos el elemento en índice 1\n",
        "slice_nums = nums[2:5]                 # Hacemos slicing (sublista de índices 2 a 4)\n",
        "length = len(nums)                     # Obtenemos la cantidad de elementos\n",
        "\n",
        "# ----- Tuplas (inmutables) -----\n",
        "punto = (10, 20)                       # Tupla (x, y) inmutable: útil para claves o coordenadas\n",
        "x, y = punto                           # Desempaquetamos los valores\n",
        "# punto[0] = 99                        # (Descomentar provocaría error: las tuplas no se pueden modificar)\n",
        "\n",
        "# ----- Diccionarios (clave→valor) -----\n",
        "usuario = {\"id\": 42, \"nombre\": \"Ana\"}  # Creamos un dict con dos pares clave-valor\n",
        "usuario[\"edad\"] = 29                   # Insertamos/modificamos una clave\n",
        "nombre = usuario.get(\"nombre\", \"\")     # Accedemos con get para evitar KeyError si no existe\n",
        "\n",
        "# ----- Conjuntos (sin duplicados, pruebas de pertenencia rápidas) -----\n",
        "vocab = {\"red\", \"green\", \"blue\"}       # Set con 3 strings (no guarda duplicados)\n",
        "vocab.add(\"green\")                     # Intentar agregar duplicado no cambia el set\n",
        "existe = \"red\" in vocab                # Prueba de pertenencia (O(1) promedio)\n",
        "union = vocab.union({\"cyan\"})          # Unión de conjuntos\n",
        "inter = vocab.intersection({\"red\", \"yellow\"})  # Intersección\n",
        "\n",
        "# Verificaciones rápidas\n",
        "print(nums, slice_nums, length)        # Lista final, sublista y tamaño\n",
        "print(punto, x, y)                     # Tupla y valores desempaquetados\n",
        "print(usuario)                         # Diccionario resultante\n",
        "print(vocab, existe, union, inter)     # Set y operaciones típicas\n"
      ]
    },
    {
      "cell_type": "code",
      "source": [
        "# === PILA (LIFO) CON LISTA ===\n",
        "\n",
        "stack = []                       # Iniciamos una pila vacía\n",
        "stack.append(\"A\")                # Push: apilar \"A\"\n",
        "stack.append(\"B\")                # Push: apilar \"B\"\n",
        "tope = stack[-1]                 # Mirar el elemento en el tope (sin sacar)\n",
        "salida = stack.pop()             # Pop: desapilar (remueve y retorna \"B\")\n",
        "print(stack, tope, salida)       # Estado actual, tope mirado, y lo que salió\n",
        "\n",
        "# === COLA (FIFO) CON collections.deque ===\n",
        "from collections import deque    # Deque es eficiente para pops/append a ambos lados\n",
        "\n",
        "q = deque()                      # Iniciamos una cola vacía\n",
        "q.append(\"A\")                    # Encolar \"A\"\n",
        "q.append(\"B\")                    # Encolar \"B\"\n",
        "primero = q[0]                   # Mirar el primer elemento (sin desencolar)\n",
        "salida = q.popleft()             # Desencolar (sale \"A\")\n",
        "print(list(q), primero, salida)  # Convertimos a lista para imprimir, y mostramos salidas\n"
      ],
      "metadata": {
        "colab": {
          "base_uri": "https://localhost:8080/"
        },
        "id": "FH3RMb0-bsIx",
        "outputId": "7ede7fbe-eddb-4717-e0c9-449ade971056"
      },
      "execution_count": null,
      "outputs": [
        {
          "output_type": "stream",
          "name": "stdout",
          "text": [
            "['A'] B B\n",
            "['B'] A A\n"
          ]
        }
      ]
    },
    {
      "cell_type": "code",
      "source": [
        "# === HEAP (cola de prioridad por mínimo) ===\n",
        "\n",
        "import heapq                      # heapq implementa un min-heap\n",
        "\n",
        "tareas = []                       # Lista que contendrá pares (prioridad, item)\n",
        "heapq.heappush(tareas, (3, \"backup\"))   # Insertar con prioridad 3\n",
        "heapq.heappush(tareas, (1, \"deploy\"))   # Insertar con prioridad 1 (más urgente)\n",
        "heapq.heappush(tareas, (2, \"tests\"))    # Insertar con prioridad 2\n",
        "\n",
        "prio, item = heapq.heappop(tareas)      # Extrae el de menor prioridad (1, \"deploy\")\n",
        "print(prio, item)                        # Mostramos la tarea más prioritaria\n",
        "print(tareas)                            # El resto del heap (en forma de lista interna)\n"
      ],
      "metadata": {
        "id": "ExTupuxmdCpx",
        "outputId": "b6d635fd-b513-4dbf-cbfc-7e722c00bfac",
        "colab": {
          "base_uri": "https://localhost:8080/"
        }
      },
      "execution_count": null,
      "outputs": [
        {
          "output_type": "stream",
          "name": "stdout",
          "text": [
            "1 deploy\n",
            "[(2, 'tests'), (3, 'backup')]\n"
          ]
        }
      ]
    },
    {
      "cell_type": "code",
      "source": [
        "# === ÁRBOL BINARIO DE BÚSQUEDA (insertar, buscar, recorrido in-order) ===\n",
        "\n",
        "class Nodo:\n",
        "    def __init__(self, valor):          # Constructor del nodo\n",
        "        self.valor = valor              # Guarda el valor del nodo\n",
        "        self.izq = None                 # Referencia al hijo izquierdo\n",
        "        self.der = None                 # Referencia al hijo derecho\n",
        "\n",
        "class BST:\n",
        "    def __init__(self):                 # Constructor del BST\n",
        "        self.raiz = None                # Árbol comienza vacío\n",
        "\n",
        "    def insertar(self, valor):          # Inserta un valor en el BST\n",
        "        if self.raiz is None:           # Si no hay raíz, este será el primer nodo\n",
        "            self.raiz = Nodo(valor)     # Creamos la raíz\n",
        "            return\n",
        "        cur = self.raiz                 # Empezamos desde la raíz\n",
        "        while True:                     # Recorremos hasta hallar lugar\n",
        "            if valor < cur.valor:       # Debe ir al subárbol izquierdo\n",
        "                if cur.izq is None:     # Si no hay hijo izq, insertamos ahí\n",
        "                    cur.izq = Nodo(valor)\n",
        "                    return\n",
        "                cur = cur.izq           # Si hay, bajamos\n",
        "            else:                        # valor >= cur.valor → derecha (permitimos duplicados a der)\n",
        "                if cur.der is None:     # Si no hay hijo der, insertamos ahí\n",
        "                    cur.der = Nodo(valor)\n",
        "                    return\n",
        "                cur = cur.der           # Si hay, bajamos\n",
        "\n",
        "    def buscar(self, valor):            # Busca un valor y retorna True/False\n",
        "        cur = self.raiz                 # Partimos de la raíz\n",
        "        while cur:                      # Mientras haya nodo\n",
        "            if valor == cur.valor:      # Encontrado\n",
        "                return True\n",
        "            cur = cur.izq if valor < cur.valor else cur.der  # Avanzamos izq/der\n",
        "        return False                    # No se encontró\n",
        "\n",
        "    def inorder(self):                  # Recorre en orden (izq, raíz, der)\n",
        "        res = []                        # Lista para recolectar valores\n",
        "        def _dfs(n):                    # Función auxiliar recursiva\n",
        "            if not n: return            # Caso base: nodo nulo\n",
        "            _dfs(n.izq)                 # Visitar subárbol izquierdo\n",
        "            res.append(n.valor)         # Visitar nodo actual\n",
        "            _dfs(n.der)                 # Visitar subárbol derecho\n",
        "        _dfs(self.raiz)                 # Llamamos con la raíz\n",
        "        return res                      # Retornamos la lista ordenada\n",
        "\n",
        "# Uso:\n",
        "bst = BST()                             # Creamos el árbol\n",
        "for v in [7, 3, 9, 1, 5, 8, 10]:        # Insertamos varios valores\n",
        "    bst.insertar(v)\n",
        "print(bst.inorder())                    # Debe imprimir [1, 3, 5, 7, 8, 9, 10]\n",
        "print(bst.buscar(5), bst.buscar(42))    # True si está 5, False si 42 no está\n"
      ],
      "metadata": {
        "colab": {
          "base_uri": "https://localhost:8080/"
        },
        "id": "qsjB_W2Ss773",
        "outputId": "adb86bfc-ddd4-4d0b-86ac-855074fa13d2"
      },
      "execution_count": 1,
      "outputs": [
        {
          "output_type": "stream",
          "name": "stdout",
          "text": [
            "[1, 3, 5, 7, 8, 9, 10]\n",
            "True False\n"
          ]
        }
      ]
    },
    {
      "cell_type": "code",
      "source": [
        "# === GRAFO NO PONDERADO: BFS PARA DISTANCIAS EN NÚMERO DE ARISTAS ===\n",
        "from collections import deque            # Usaremos deque como cola\n",
        "\n",
        "G = {                                    # Lista de adyacencia (no dirigido)\n",
        "    \"A\": {\"B\", \"C\"},\n",
        "    \"B\": {\"A\", \"D\"},\n",
        "    \"C\": {\"A\", \"D\"},\n",
        "    \"D\": {\"B\", \"C\", \"E\"},\n",
        "    \"E\": {\"D\"},\n",
        "}\n",
        "\n",
        "def bfs_distancias(grafo, origen):\n",
        "    dist = {origen: 0}                   # Distancia 0 al origen\n",
        "    q = deque([origen])                  # Cola con el origen\n",
        "    while q:                             # Mientras haya nodos por visitar\n",
        "        v = q.popleft()                  # Tomamos el más antiguo\n",
        "        for w in grafo.get(v, ()):       # Vecinos de v\n",
        "            if w not in dist:            # Si aún no fue visitado\n",
        "                dist[w] = dist[v] + 1    # Distancia = dist del padre + 1\n",
        "                q.append(w)              # Encolar para explorar sus vecinos\n",
        "    return dist                          # Mapa de distancias mínimas (en aristas)\n",
        "\n",
        "print(\"Distancias desde A (BFS):\", bfs_distancias(G, \"A\"))\n",
        "\n",
        "# === GRAFO PONDERADO: DIJKSTRA PARA RUTA MÍNIMA EN COSTO ===\n",
        "import heapq                              # Heap para elegir el siguiente con menor costo\n",
        "\n",
        "W = {                                     # Lista de adyacencia ponderada (dirigido/no)\n",
        "    \"A\": [(\"B\", 2), (\"C\", 5)],\n",
        "    \"B\": [(\"C\", 1), (\"D\", 3)],\n",
        "    \"C\": [(\"D\", 1)],\n",
        "    \"D\": [(\"E\", 4)],\n",
        "    \"E\": [],\n",
        "}\n",
        "\n",
        "def dijkstra(grafo, origen):\n",
        "    dist = {origen: 0.0}                  # Mejor distancia conocida al origen es 0\n",
        "    heap = [(0.0, origen)]                # (costo acumulado, nodo)\n",
        "    visitados = set()                     # Para fijar nodos ya procesados\n",
        "    while heap:                           # Mientras haya candidatos\n",
        "        d, v = heapq.heappop(heap)        # Toma el de menor costo\n",
        "        if v in visitados:                # Si ya se fijó, saltar\n",
        "            continue\n",
        "        visitados.add(v)                  # Fijamos v\n",
        "        for w, costo in grafo.get(v, []): # Recorremos sus aristas salientes\n",
        "            nd = d + costo                # Nuevo costo por esta ruta\n",
        "            if nd < dist.get(w, float(\"inf\")):  # Si mejora lo conocido\n",
        "                dist[w] = nd              # Actualizamos mejor distancia\n",
        "                heapq.heappush(heap, (nd, w))   # Encolamos para seguir expandiendo\n",
        "    return dist                           # Distancias finales desde origen\n",
        "\n",
        "print(\"Costos mínimos desde A (Dijkstra):\", dijkstra(W, \"A\"))\n"
      ],
      "metadata": {
        "colab": {
          "base_uri": "https://localhost:8080/"
        },
        "id": "W-dB9KhetA29",
        "outputId": "3081555f-ef50-4214-952c-6e1fc8973feb"
      },
      "execution_count": 2,
      "outputs": [
        {
          "output_type": "stream",
          "name": "stdout",
          "text": [
            "Distancias desde A (BFS): {'A': 0, 'C': 1, 'B': 1, 'D': 2, 'E': 3}\n",
            "Costos mínimos desde A (Dijkstra): {'A': 0.0, 'B': 2.0, 'C': 3.0, 'D': 4.0, 'E': 8.0}\n"
          ]
        }
      ]
    }
  ]
}